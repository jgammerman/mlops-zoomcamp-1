{
 "cells": [
  {
   "cell_type": "code",
   "execution_count": 1,
   "id": "bf2ab59d",
   "metadata": {},
   "outputs": [],
   "source": [
    "from mlflow.tracking import MlflowClient"
   ]
  },
  {
   "cell_type": "code",
   "execution_count": 2,
   "id": "12e309fc",
   "metadata": {},
   "outputs": [],
   "source": [
    "    # instantiate the client\n",
    "    MLFLOW_TRACKING_URI = \"sqlite:///mlflow.db\"\n",
    "    client = MlflowClient(tracking_uri=MLFLOW_TRACKING_URI)"
   ]
  },
  {
   "cell_type": "code",
   "execution_count": 3,
   "id": "d7b0aa16",
   "metadata": {},
   "outputs": [
    {
     "data": {
      "text/plain": [
       "'4'"
      ]
     },
     "execution_count": 3,
     "metadata": {},
     "output_type": "execute_result"
    }
   ],
   "source": [
    "    # we can create experiments\n",
    "    client.create_experiment(name=\"test_24-5-23\")"
   ]
  },
  {
   "cell_type": "code",
   "execution_count": 4,
   "id": "5c725264",
   "metadata": {},
   "outputs": [
    {
     "data": {
      "text/plain": [
       "[<Experiment: artifact_location='/home/ubuntu/mlops-zoomcamp/02-experiment-tracking/mlruns/4', creation_time=1684948293223, experiment_id='4', last_update_time=1684948293223, lifecycle_stage='active', name='test_24-5-23', tags={}>,\n",
       " <Experiment: artifact_location='/home/ubuntu/mlops-zoomcamp/02-experiment-tracking/mlruns/3', creation_time=1684595417590, experiment_id='3', last_update_time=1684595417590, lifecycle_stage='active', name='test', tags={}>,\n",
       " <Experiment: artifact_location='/home/ubuntu/mlops-zoomcamp/02-experiment-tracking/mlruns/1', creation_time=1684424616139, experiment_id='1', last_update_time=1684424616139, lifecycle_stage='active', name='nyc-taxi-experiment', tags={}>,\n",
       " <Experiment: artifact_location='mlflow-artifacts:/0', creation_time=1684423638650, experiment_id='0', last_update_time=1684423638650, lifecycle_stage='active', name='Default', tags={}>]"
      ]
     },
     "execution_count": 4,
     "metadata": {},
     "output_type": "execute_result"
    }
   ],
   "source": [
    "client.search_experiments()"
   ]
  },
  {
   "cell_type": "code",
   "execution_count": 8,
   "id": "a4e3e116",
   "metadata": {},
   "outputs": [],
   "source": [
    "    from mlflow.entities import ViewType\n",
    "\n",
    "    runs = client.search_runs(\n",
    "        experiment_ids= \"1\",\n",
    "        filter_string=\"\",\n",
    "        run_view_type=ViewType.ACTIVE_ONLY,\n",
    "        max_results=5,\n",
    "        order_by=[\"metrics.rmse ASC\"]\n",
    "    )"
   ]
  },
  {
   "cell_type": "code",
   "execution_count": 9,
   "id": "9cbc7f24",
   "metadata": {},
   "outputs": [
    {
     "data": {
      "text/plain": [
       "[<Run: data=<RunData: metrics={'best_iteration': 999.0,\n",
       "  'rmse': 6.288402599557681,\n",
       "  'stopped_iteration': 999.0,\n",
       "  'validation-rmse': 6.288402595017984}, params={'custom_metric': 'None',\n",
       "  'early_stopping_rounds': '50',\n",
       "  'learning_rate': '0.2798121113127615',\n",
       "  'max_depth': '13',\n",
       "  'maximize': 'None',\n",
       "  'min_child_weight': '1.146875313093477',\n",
       "  'num_boost_round': '1000',\n",
       "  'objective': 'reg:linear',\n",
       "  'reg_alpha': '0.16063325941692372',\n",
       "  'reg_lambda': '0.01711465230001588',\n",
       "  'seed': '42',\n",
       "  'verbose_eval': 'True'}, tags={'mlflow.log-model.history': '[{\"run_id\": \"f9981d4e93484011b1ef5a0243b8f2f0\", '\n",
       "                              '\"artifact_path\": \"model\", \"utc_time_created\": '\n",
       "                              '\"2023-05-24 16:49:16.630605\", \"flavors\": '\n",
       "                              '{\"python_function\": {\"loader_module\": '\n",
       "                              '\"mlflow.xgboost\", \"python_version\": \"3.9.16\", '\n",
       "                              '\"data\": \"model.xgb\", \"env\": {\"conda\": '\n",
       "                              '\"conda.yaml\", \"virtualenv\": \"python_env.yaml\"}}, '\n",
       "                              '\"xgboost\": {\"xgb_version\": \"1.7.5\", \"data\": '\n",
       "                              '\"model.xgb\", \"model_class\": '\n",
       "                              '\"xgboost.core.Booster\", \"model_format\": \"xgb\", '\n",
       "                              '\"code\": null}}, \"model_uuid\": '\n",
       "                              '\"3e48752085254d7c9f77acc576d748c6\", '\n",
       "                              '\"mlflow_version\": \"2.3.2\", \"signature\": '\n",
       "                              '{\"inputs\": \"[{\\\\\"type\\\\\": \\\\\"tensor\\\\\", '\n",
       "                              '\\\\\"tensor-spec\\\\\": {\\\\\"dtype\\\\\": \\\\\"float64\\\\\", '\n",
       "                              '\\\\\"shape\\\\\": [-1, 13221]}}]\", \"outputs\": '\n",
       "                              '\"[{\\\\\"type\\\\\": \\\\\"tensor\\\\\", \\\\\"tensor-spec\\\\\": '\n",
       "                              '{\\\\\"dtype\\\\\": \\\\\"float32\\\\\", \\\\\"shape\\\\\": '\n",
       "                              '[-1]}}]\"}}, {\"run_id\": '\n",
       "                              '\"f9981d4e93484011b1ef5a0243b8f2f0\", '\n",
       "                              '\"artifact_path\": \"models_mlflow\", '\n",
       "                              '\"utc_time_created\": \"2023-05-24 '\n",
       "                              '16:49:21.147898\", \"flavors\": {\"python_function\": '\n",
       "                              '{\"loader_module\": \"mlflow.xgboost\", '\n",
       "                              '\"python_version\": \"3.9.16\", \"data\": \"model.xgb\", '\n",
       "                              '\"env\": {\"conda\": \"conda.yaml\", \"virtualenv\": '\n",
       "                              '\"python_env.yaml\"}}, \"xgboost\": {\"xgb_version\": '\n",
       "                              '\"1.7.5\", \"data\": \"model.xgb\", \"model_class\": '\n",
       "                              '\"xgboost.core.Booster\", \"model_format\": \"xgb\", '\n",
       "                              '\"code\": null}}, \"model_uuid\": '\n",
       "                              '\"15cf759f4c4b4cd5b608e01d31a48d2a\", '\n",
       "                              '\"mlflow_version\": \"2.3.2\"}]',\n",
       "  'mlflow.runName': 'bustling-cow-27',\n",
       "  'mlflow.source.name': '/home/ubuntu/anaconda3/envs/exp-tracking-env/lib/python3.9/site-packages/ipykernel_launcher.py',\n",
       "  'mlflow.source.type': 'LOCAL',\n",
       "  'mlflow.user': 'ubuntu'}>, info=<RunInfo: artifact_uri='/home/ubuntu/mlops-zoomcamp/02-experiment-tracking/mlruns/1/f9981d4e93484011b1ef5a0243b8f2f0/artifacts', end_time=1684946962951, experiment_id='1', lifecycle_stage='active', run_id='f9981d4e93484011b1ef5a0243b8f2f0', run_name='bustling-cow-27', run_uuid='f9981d4e93484011b1ef5a0243b8f2f0', start_time=1684946880001, status='FINISHED', user_id='ubuntu'>>,\n",
       " <Run: data=<RunData: metrics={'rmse': 6.288402599557681}, params={'learning_rate': '0.2798121113127615',\n",
       "  'max_depth': '13',\n",
       "  'min_child_weight': '1.146875313093477',\n",
       "  'objective': 'reg:linear',\n",
       "  'reg_alpha': '0.16063325941692372',\n",
       "  'reg_lambda': '0.01711465230001588',\n",
       "  'seed': '42'}, tags={'mlflow.runName': 'auspicious-shad-763',\n",
       "  'mlflow.source.name': '/home/ubuntu/anaconda3/envs/exp-tracking-env/lib/python3.9/site-packages/ipykernel_launcher.py',\n",
       "  'mlflow.source.type': 'LOCAL',\n",
       "  'mlflow.user': 'ubuntu',\n",
       "  'model': 'xgboost'}>, info=<RunInfo: artifact_uri='/home/ubuntu/mlops-zoomcamp/02-experiment-tracking/mlruns/1/6c7ea9a50ec5414d95154f777282fdf8/artifacts', end_time=1684509318963, experiment_id='1', lifecycle_stage='active', run_id='6c7ea9a50ec5414d95154f777282fdf8', run_name='auspicious-shad-763', run_uuid='6c7ea9a50ec5414d95154f777282fdf8', start_time=1684509280981, status='FINISHED', user_id='ubuntu'>>,\n",
       " <Run: data=<RunData: metrics={'rmse': 6.302432605395757}, params={'learning_rate': '0.09585355369315604',\n",
       "  'max_depth': '30',\n",
       "  'min_child_weight': '1.060597050922164',\n",
       "  'objective': 'reg:linear',\n",
       "  'reg_alpha': '0.018060244040060163',\n",
       "  'reg_lambda': '0.011658731377413597',\n",
       "  'seed': '42'}, tags={'mlflow.log-model.history': '[{\"run_id\": \"d9986f505d134cce9d50a7de6ac6cc85\", '\n",
       "                              '\"artifact_path\": \"models_mlflow\", '\n",
       "                              '\"utc_time_created\": \"2023-05-20 '\n",
       "                              '13:43:47.320168\", \"flavors\": {\"python_function\": '\n",
       "                              '{\"loader_module\": \"mlflow.xgboost\", '\n",
       "                              '\"python_version\": \"3.9.16\", \"data\": \"model.xgb\", '\n",
       "                              '\"env\": {\"conda\": \"conda.yaml\", \"virtualenv\": '\n",
       "                              '\"python_env.yaml\"}}, \"xgboost\": {\"xgb_version\": '\n",
       "                              '\"1.7.5\", \"data\": \"model.xgb\", \"model_class\": '\n",
       "                              '\"xgboost.core.Booster\", \"model_format\": \"xgb\", '\n",
       "                              '\"code\": null}}, \"model_uuid\": '\n",
       "                              '\"dc7a0a12f8924806b81aebd417c5d2ec\", '\n",
       "                              '\"mlflow_version\": \"2.3.2\"}]',\n",
       "  'mlflow.runName': 'able-elk-415',\n",
       "  'mlflow.source.name': '/home/ubuntu/anaconda3/envs/exp-tracking-env/lib/python3.9/site-packages/ipykernel_launcher.py',\n",
       "  'mlflow.source.type': 'LOCAL',\n",
       "  'mlflow.user': 'ubuntu'}>, info=<RunInfo: artifact_uri='/home/ubuntu/mlops-zoomcamp/02-experiment-tracking/mlruns/1/d9986f505d134cce9d50a7de6ac6cc85/artifacts', end_time=1684590229889, experiment_id='1', lifecycle_stage='active', run_id='d9986f505d134cce9d50a7de6ac6cc85', run_name='able-elk-415', run_uuid='d9986f505d134cce9d50a7de6ac6cc85', start_time=1684590154955, status='FINISHED', user_id='ubuntu'>>,\n",
       " <Run: data=<RunData: metrics={'rmse': 6.302432605395757}, params={'learning_rate': '0.09585355369315604',\n",
       "  'max_depth': '30',\n",
       "  'min_child_weight': '1.060597050922164',\n",
       "  'objective': 'reg:linear',\n",
       "  'reg_alpha': '0.018060244040060163',\n",
       "  'reg_lambda': '0.011658731377413597',\n",
       "  'seed': '42'}, tags={'mlflow.log-model.history': '[{\"run_id\": \"aa32eeba551d433b84a74536445060fd\", '\n",
       "                              '\"artifact_path\": \"models_mlflow\", '\n",
       "                              '\"utc_time_created\": \"2023-05-19 '\n",
       "                              '15:24:27.630154\", \"flavors\": {\"python_function\": '\n",
       "                              '{\"loader_module\": \"mlflow.xgboost\", '\n",
       "                              '\"python_version\": \"3.9.16\", \"data\": \"model.xgb\", '\n",
       "                              '\"env\": {\"conda\": \"conda.yaml\", \"virtualenv\": '\n",
       "                              '\"python_env.yaml\"}}, \"xgboost\": {\"xgb_version\": '\n",
       "                              '\"1.7.5\", \"data\": \"model.xgb\", \"model_class\": '\n",
       "                              '\"xgboost.core.Booster\", \"model_format\": \"xgb\", '\n",
       "                              '\"code\": null}}, \"model_uuid\": '\n",
       "                              '\"c640134cc00342a985f1b9f5b39c6260\", '\n",
       "                              '\"mlflow_version\": \"2.3.2\"}]',\n",
       "  'mlflow.runName': 'burly-tern-609',\n",
       "  'mlflow.source.name': '/home/ubuntu/anaconda3/envs/exp-tracking-env/lib/python3.9/site-packages/ipykernel_launcher.py',\n",
       "  'mlflow.source.type': 'LOCAL',\n",
       "  'mlflow.user': 'ubuntu'}>, info=<RunInfo: artifact_uri='/home/ubuntu/mlops-zoomcamp/02-experiment-tracking/mlruns/1/aa32eeba551d433b84a74536445060fd/artifacts', end_time=1684509870072, experiment_id='1', lifecycle_stage='active', run_id='aa32eeba551d433b84a74536445060fd', run_name='burly-tern-609', run_uuid='aa32eeba551d433b84a74536445060fd', start_time=1684509796501, status='FINISHED', user_id='ubuntu'>>,\n",
       " <Run: data=<RunData: metrics={'rmse': 6.3168637650135215}, params={'learning_rate': '0.1402894262389874',\n",
       "  'max_depth': '41',\n",
       "  'min_child_weight': '1.130450906393727',\n",
       "  'objective': 'reg:linear',\n",
       "  'reg_alpha': '0.1928758460451386',\n",
       "  'reg_lambda': '0.018222746429832612',\n",
       "  'seed': '42'}, tags={'mlflow.runName': 'victorious-gnat-992',\n",
       "  'mlflow.source.name': '/home/ubuntu/anaconda3/envs/exp-tracking-env/lib/python3.9/site-packages/ipykernel_launcher.py',\n",
       "  'mlflow.source.type': 'LOCAL',\n",
       "  'mlflow.user': 'ubuntu',\n",
       "  'model': 'xgboost'}>, info=<RunInfo: artifact_uri='/home/ubuntu/mlops-zoomcamp/02-experiment-tracking/mlruns/1/5df89484e34144d5a3ee766504c462fa/artifacts', end_time=1684509417400, experiment_id='1', lifecycle_stage='active', run_id='5df89484e34144d5a3ee766504c462fa', run_name='victorious-gnat-992', run_uuid='5df89484e34144d5a3ee766504c462fa', start_time=1684509355929, status='FINISHED', user_id='ubuntu'>>]"
      ]
     },
     "execution_count": 9,
     "metadata": {},
     "output_type": "execute_result"
    }
   ],
   "source": [
    "runs"
   ]
  },
  {
   "cell_type": "code",
   "execution_count": 11,
   "id": "a62d6fc0",
   "metadata": {},
   "outputs": [
    {
     "name": "stdout",
     "output_type": "stream",
     "text": [
      "run id: f9981d4e93484011b1ef5a0243b8f2f0, rmse: 6.288402599557681\n",
      "run id: 6c7ea9a50ec5414d95154f777282fdf8, rmse: 6.288402599557681\n",
      "run id: d9986f505d134cce9d50a7de6ac6cc85, rmse: 6.302432605395757\n",
      "run id: aa32eeba551d433b84a74536445060fd, rmse: 6.302432605395757\n",
      "run id: 5df89484e34144d5a3ee766504c462fa, rmse: 6.3168637650135215\n"
     ]
    }
   ],
   "source": [
    "        # the runs have a ton of information, but we can choose to only view the run_id and rmse\n",
    "        for run in runs:\n",
    "            print(f\"run id: {run.info.run_id}, rmse: {run.data.metrics['rmse']}\")"
   ]
  },
  {
   "cell_type": "markdown",
   "id": "0e883a3d",
   "metadata": {},
   "source": [
    "## Registering a new model"
   ]
  },
  {
   "cell_type": "code",
   "execution_count": 12,
   "id": "f7acf4b2",
   "metadata": {},
   "outputs": [],
   "source": [
    "    # import and set up mlflow\n",
    "    import mlflow\n",
    "\n",
    "    mlflow.set_tracking_uri(MLFLOW_TRACKING_URI)"
   ]
  },
  {
   "cell_type": "code",
   "execution_count": 15,
   "id": "3647207f",
   "metadata": {},
   "outputs": [],
   "source": [
    "    # set up variables\n",
    "    RUN_ID = \"aa32eeba551d433b84a74536445060fd\"\n",
    "    MODEL_URI = f\"runs:/{RUN_ID}/model\""
   ]
  },
  {
   "cell_type": "code",
   "execution_count": 16,
   "id": "c5ba3134",
   "metadata": {},
   "outputs": [],
   "source": [
    "    assert client.search_model_versions(f\"run_id = '{RUN_ID}'\") == [], \"Run has been registered!\""
   ]
  },
  {
   "cell_type": "code",
   "execution_count": 20,
   "id": "a72b2a3b",
   "metadata": {},
   "outputs": [
    {
     "name": "stderr",
     "output_type": "stream",
     "text": [
      "Registered model 'nyc_taxi_regressor_v2' already exists. Creating a new version of this model...\n",
      "2023/05/24 17:15:22 INFO mlflow.tracking._model_registry.client: Waiting up to 300 seconds for model version to finish creation. Model name: nyc_taxi_regressor_v2, version 5\n",
      "Created version '5' of model 'nyc_taxi_regressor_v2'.\n"
     ]
    },
    {
     "data": {
      "text/plain": [
       "<ModelVersion: aliases=[], creation_timestamp=1684948522561, current_stage='None', description=None, last_updated_timestamp=1684948522561, name='nyc_taxi_regressor_v2', run_id='aa32eeba551d433b84a74536445060fd', run_link=None, source='/home/ubuntu/mlops-zoomcamp/02-experiment-tracking/mlruns/1/aa32eeba551d433b84a74536445060fd/artifacts/model', status='READY', status_message=None, tags={}, user_id=None, version=5>"
      ]
     },
     "execution_count": 20,
     "metadata": {},
     "output_type": "execute_result"
    }
   ],
   "source": [
    "mlflow.register_model(model_uri = MODEL_URI, name=\"nyc_taxi_regressor_v2\")"
   ]
  },
  {
   "cell_type": "markdown",
   "id": "6cd529e0",
   "metadata": {},
   "source": [
    "## Transitioning the newly registered model"
   ]
  },
  {
   "cell_type": "code",
   "execution_count": 22,
   "id": "177a063e",
   "metadata": {},
   "outputs": [
    {
     "name": "stdout",
     "output_type": "stream",
     "text": [
      "Version: 1, Stage: Production\n",
      "Version: 4, Stage: Staging\n",
      "Version: 5, Stage: None\n"
     ]
    }
   ],
   "source": [
    "    # get the latest versions\n",
    "    model_name = \"nyc_taxi_regressor_v2\"\n",
    "    latest_versions = client.get_latest_versions(name=model_name)\n",
    "\n",
    "    for version in latest_versions:\n",
    "        print(f\"Version: {version.version}, Stage: {version.current_stage}\")"
   ]
  },
  {
   "cell_type": "markdown",
   "id": "e43095bf",
   "metadata": {},
   "source": [
    "Let's transition version 5 to \"Staging\""
   ]
  },
  {
   "cell_type": "code",
   "execution_count": 23,
   "id": "4f600167",
   "metadata": {},
   "outputs": [
    {
     "data": {
      "text/plain": [
       "<ModelVersion: aliases=[], creation_timestamp=1684948522561, current_stage='Staging', description=None, last_updated_timestamp=1684948620070, name='nyc_taxi_regressor_v2', run_id='aa32eeba551d433b84a74536445060fd', run_link=None, source='/home/ubuntu/mlops-zoomcamp/02-experiment-tracking/mlruns/1/aa32eeba551d433b84a74536445060fd/artifacts/model', status='READY', status_message=None, tags={}, user_id=None, version=5>"
      ]
     },
     "execution_count": 23,
     "metadata": {},
     "output_type": "execute_result"
    }
   ],
   "source": [
    "    # transition version 5 to \"Staging\"\n",
    "    stage = \"Staging\"\n",
    "    version = 5\n",
    "\n",
    "    client.transition_model_version_stage(\n",
    "        name = model_name,\n",
    "        version = version,\n",
    "        stage = stage,\n",
    "        archive_existing_versions = False\n",
    "    )"
   ]
  },
  {
   "cell_type": "code",
   "execution_count": null,
   "id": "5db64fd1",
   "metadata": {},
   "outputs": [],
   "source": []
  },
  {
   "cell_type": "markdown",
   "id": "8fbd9c99",
   "metadata": {},
   "source": [
    "###############################"
   ]
  },
  {
   "cell_type": "code",
   "execution_count": null,
   "id": "90099f82",
   "metadata": {},
   "outputs": [],
   "source": [
    "import mlflow\n",
    "# from mlflow.tracking import MLflowClient"
   ]
  },
  {
   "cell_type": "code",
   "execution_count": null,
   "id": "5414a526",
   "metadata": {},
   "outputs": [],
   "source": [
    "from mlflow.tracking import MlflowClient"
   ]
  },
  {
   "cell_type": "code",
   "execution_count": null,
   "id": "ceb1fd07",
   "metadata": {},
   "outputs": [],
   "source": [
    "# instantiate the client\n",
    "MLFLOW_TRACKING_URI = \"sqlite:///mlflow.db\"\n",
    "client = MlflowClient(tracking_uri=MLFLOW_TRACKING_URI)"
   ]
  },
  {
   "cell_type": "code",
   "execution_count": null,
   "id": "b98d0dce",
   "metadata": {},
   "outputs": [],
   "source": [
    "client.search_experiments()"
   ]
  },
  {
   "cell_type": "code",
   "execution_count": null,
   "id": "fd9b458c",
   "metadata": {},
   "outputs": [],
   "source": [
    "# we can create experiments\n",
    "client.create_experiment(name=\"test\")"
   ]
  },
  {
   "cell_type": "code",
   "execution_count": null,
   "id": "b30319c5",
   "metadata": {},
   "outputs": [],
   "source": []
  }
 ],
 "metadata": {
  "kernelspec": {
   "display_name": "Python 3 (ipykernel)",
   "language": "python",
   "name": "python3"
  },
  "language_info": {
   "codemirror_mode": {
    "name": "ipython",
    "version": 3
   },
   "file_extension": ".py",
   "mimetype": "text/x-python",
   "name": "python",
   "nbconvert_exporter": "python",
   "pygments_lexer": "ipython3",
   "version": "3.9.16"
  }
 },
 "nbformat": 4,
 "nbformat_minor": 5
}
